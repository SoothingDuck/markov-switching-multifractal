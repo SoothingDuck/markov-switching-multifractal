{
 "cells": [
  {
   "cell_type": "markdown",
   "id": "21265c98",
   "metadata": {
    "Collapsed": "false",
    "toc-hr-collapsed": false
   },
   "source": [
    "# Data"
   ]
  },
  {
   "cell_type": "code",
   "execution_count": null,
   "id": "90319239",
   "metadata": {
    "Collapsed": "false"
   },
   "outputs": [],
   "source": [
    "%%time\n",
    "import os\n",
    "import glob\n",
    "import pandas as pd\n",
    "import numpy as np\n",
    "from datetime import datetime, timedelta, date\n",
    "from simulatedata import simulatedata\n",
    "import scipy.stats as stats\n",
    "import statsmodels.api as sm\n",
    "import matplotlib.pyplot as plt\n",
    "import seaborn as sns\n",
    "sns.set(style=\"ticks\", palette=\"muted\")\n",
    "\n",
    "import matplotlib\n",
    "matplotlib.use(\"qtAgg\")\n",
    "\n",
    "# Set kbar\n",
    "kbar = 4\n",
    "\n",
    "# Simulated data, 60% in-sample for estimation, 40% out-of-sample for forecasts.  See Section 4 re rationale for simulated data\n",
    "b = 6\n",
    "m0 = 1.6\n",
    "gamma_kbar = 0.8\n",
    "sig = 2/np.sqrt(252)\n",
    "T = 7087\n",
    "E = np.rint(0.6*T).astype(int)\n",
    "dat1 = simulatedata(b,m0,gamma_kbar,sig,kbar,T)\n",
    "dat1E = dat1[0:E,]\n",
    "dat1F = dat1[E:,]\n",
    "\n",
    "# DEXJPUS, 60% in-sample for estimation, 40% out-of-sample for forecasts\n",
    "dat2 = pd.read_csv(\"DEXJPUS.csv\")\n",
    "dat2 = dat2.loc[dat2.DEXJPUS != \".\"].DEXJPUS.astype(float)\n",
    "dat2 = np.array(dat2)\n",
    "dat2_rtn = dat2[0:-1]\n",
    "dat2 = np.log(dat2[1:])-np.log(dat2[0:-1])\n",
    "dat2 = dat2[dat2 != 0]\n",
    "dat2 = dat2[:,np.newaxis]\n",
    "dat2E = dat2[0:E,]\n",
    "dat2F = dat2[E:,]\n",
    "\n",
    "print(dat1E.shape, dat1F.shape, dat2E.shape, dat2F.shape)"
   ]
  },
  {
   "cell_type": "markdown",
   "id": "8758e14b",
   "metadata": {
    "Collapsed": "false",
    "toc-hr-collapsed": false
   },
   "source": [
    "# Stats"
   ]
  },
  {
   "cell_type": "code",
   "execution_count": null,
   "id": "a0adbde9",
   "metadata": {
    "Collapsed": "false",
    "lines_to_next_cell": 1
   },
   "outputs": [],
   "source": [
    "\n",
    "j = stats.describe(dat1)\n",
    "print(\"Descriptive statistics for Simulated Data: \",\"\\n\"\n",
    "      \"Number of observations = \",j.nobs,\"\\n\"\n",
    "      \"Minimum, Maximum = \",str(j.minmax),\"\\n\"\n",
    "      \"Mean = %.5f\" %  j.mean,\"\\n\"\n",
    "      \"Variance = %.5f\" %  j.variance,\"\\n\"\n",
    "      \"Standard deviation = %.5f\" %  j.variance**0.5,\"\\n\"\n",
    "      \"Skewness = %.5f\" %  j.skewness,\"\\n\"\n",
    "      \"Kurtosis = %.5f\" %  j.kurtosis)\n",
    "\n",
    "k = stats.describe(dat2)\n",
    "print(\"Descriptive statistics for DEXJPUS: \",\"\\n\"\n",
    "      \"Number of observations = \",k.nobs,\"\\n\"\n",
    "      \"Minimum, Maximum = \",str(k.minmax),\"\\n\"\n",
    "      \"Mean = %.5f\" %  k.mean,\"\\n\"\n",
    "      \"Variance = %.5f\" %  k.variance,\"\\n\"\n",
    "      \"Standard deviation = %.5f\" %  k.variance**0.5,\"\\n\"\n",
    "      \"Skewness = %.5f\" %  k.skewness,\"\\n\"\n",
    "      \"Kurtosis = %.5f\" %  k.kurtosis)"
   ]
  },
  {
   "cell_type": "markdown",
   "id": "93556eca",
   "metadata": {
    "Collapsed": "false"
   },
   "source": [
    "# Time series analysis"
   ]
  },
  {
   "cell_type": "code",
   "execution_count": null,
   "id": "0efd0ecb",
   "metadata": {
    "Collapsed": "false"
   },
   "outputs": [],
   "source": [
    "def tsdisplay(y, figsize = (16,9), title = \"\", color = \"\"):\n",
    "    tmp_data = pd.Series(y)\n",
    "    \n",
    "    fig = plt.figure(figsize = figsize)\n",
    "    # Plot time series\n",
    "    tmp_data.plot(ax = fig.add_subplot(311), title = \"$Log\\ returns\\ time\\ series:\\ \" + title + \"$\", legend = False, color=color, linewidth=0.5, alpha=0.75)\n",
    "    # Plot ACF:\n",
    "    sm.graphics.tsa.plot_acf(tmp_data, lags = 20, zero = False, color=color, ax = fig.add_subplot(323))\n",
    "    # Plot PACF:\n",
    "    sm.graphics.tsa.plot_pacf(tmp_data, lags = 20, zero = False, color=color, ax = fig.add_subplot(324))\n",
    "    # QQ plot of the data:\n",
    "    sm.qqplot(tmp_data, line='s', color=color, ax = fig.add_subplot(325)) \n",
    "    plt.title(\"Q-Q Plot\")\n",
    "    # Plot residual histogram:\n",
    "    fig.add_subplot(326).hist(tmp_data, color=color, bins = 120)\n",
    "    plt.title(\"Histogram\")\n",
    "    # Fix layout of the plots:\n",
    "    plt.tight_layout()"
   ]
  },
  {
   "cell_type": "code",
   "execution_count": null,
   "id": "03eda5d7",
   "metadata": {
    "Collapsed": "false"
   },
   "outputs": [],
   "source": [
    "s = np.array(dat2).astype(float)\n",
    "s = s[s != 0].copy()\n",
    "tsdisplay(s, title = \"DEXJPUS\\ daily\", color='green')\n",
    "plt.show()"
   ]
  },
  {
   "cell_type": "code",
   "execution_count": null,
   "id": "01af8a69",
   "metadata": {
    "Collapsed": "false"
   },
   "outputs": [],
   "source": [
    "s = np.array(dat1).astype(float)\n",
    "s = s[s != 0].copy()\n",
    "tsdisplay(s, title = \"MSM simulated daily returns\", color='red')\n",
    "plt.show()"
   ]
  },
  {
   "cell_type": "markdown",
   "id": "f7b4a346",
   "metadata": {
    "Collapsed": "false",
    "toc-hr-collapsed": true
   },
   "source": [
    "# Model estimation"
   ]
  },
  {
   "cell_type": "markdown",
   "id": "9eaa810f",
   "metadata": {
    "Collapsed": "false"
   },
   "source": [
    "**Simulated dataset**"
   ]
  },
  {
   "cell_type": "markdown",
   "id": "5354185d",
   "metadata": {
    "Collapsed": "false"
   },
   "source": [
    "I apply ML estimation to the simulated dataset in order to check that my models compute parameters that are acceptably close to true. The function `simulateData_NumPy(b,m0,g_kbar,sig,kbar,T)` simulates a dataset the true parameters of which are $b = 6$, $m_0 = 1.6$, $gamma_{\\bar k} = 0.8$, and ${\\bar \\sigma} = 2$; I further specify 5 multipliers (thus $\\bar k = 5$). I set $T$ observations for the simulation, setting $T = 7087$ in order that the simulated data set is of identical length (number of observations) to the DEXJPUS dataset of the subsequent section, where I replicate the results of Calvet & Fisher (2004).  I observe that the parameters returned for the simulated data are consistently close to the true parameters over the course of a great many test runs and thus conclude that the MSM model is working correctly."
   ]
  },
  {
   "cell_type": "code",
   "execution_count": null,
   "id": "6413f040",
   "metadata": {
    "Collapsed": "false"
   },
   "outputs": [],
   "source": [
    "%%time\n",
    "import numpy as np\n",
    "from msm import glo_min, loc_min, g_LLb_h, g_LL, _LL, g_pi_t, _t, g_t, s_p, unpack \n",
    "import yfinance as yf\n",
    "\n",
    "# data = dat1E               # Simulated dta\n",
    "niter = 1\n",
    "temperature = 1.0\n",
    "stepsize = 1.0\n",
    "\n",
    "data_QQQ = yf.download(\"QQQ\", start=\"2024-01-01\", end=\"2024-12-15\")\n",
    "print(data_QQQ.head())\n",
    "\n",
    "data = np.array(np.log(data_QQQ[\"Adj Close\"]).pct_change().dropna())\n",
    "\n",
    "parameters, LL, niter, output = glo_min(kbar, data, niter, temperature, stepsize)\n",
    "\n",
    "# name parameters for later use:\n",
    "b_sim = parameters[0]\n",
    "m_0_sim = parameters[1]\n",
    "gamma_kbar_sim = parameters[2]\n",
    "sigma_sim = parameters[3]\n",
    "LL_sim = LL\n",
    "\n",
    "print(\"Parameters from glo_min for Simulated dataset: \", \"\\n\"\n",
    "      \"kbar = \", kbar,\"\\n\"\n",
    "      'b = %.5f' % b_sim,\"\\n\"\n",
    "      'm_0 = %.5f' % m_0_sim,\"\\n\"\n",
    "      'gamma_kbar = %.5f' % gamma_kbar_sim,\"\\n\"\n",
    "      'sigma = %.5f' % (sigma_sim*np.sqrt(252)),\"\\n\"\n",
    "      'Likelihood = %.5f' % LL_sim,\"\\n\"\n",
    "      \"niter = \" , niter,\"\\n\"\n",
    "      \"output = \" , output,\"\\n\")"
   ]
  },
  {
   "cell_type": "markdown",
   "id": "0393280b",
   "metadata": {
    "Collapsed": "false"
   },
   "source": [
    "**DEXJPUS**"
   ]
  },
  {
   "cell_type": "markdown",
   "id": "6bd35227",
   "metadata": {
    "Collapsed": "false"
   },
   "source": [
    "I apply ML estimation to the DEXJPUS dataset in order to replicate the results of Calvet & Fisher (2004, 2008) with the same data, thereby providing an anchor for subsequent analysis with other data.\n",
    "$\\\\[0.1in]$"
   ]
  },
  {
   "cell_type": "code",
   "execution_count": null,
   "id": "47085664",
   "metadata": {
    "Collapsed": "false"
   },
   "outputs": [],
   "source": [
    "%%time\n",
    "import numpy as np\n",
    "from msm import glo_min, loc_min, g_LLb_h, g_LL, _LL, g_pi_t, _t, g_t, s_p, unpack \n",
    "\n",
    "data = dat2E               # DEXJPUS\n",
    "niter = 1\n",
    "temperature = 1.0\n",
    "stepsize = 1.0\n",
    "\n",
    "parameters, LL, niter, output = glo_min(kbar, data, niter, temperature, stepsize)\n",
    "\n",
    "# name parameters for later use:\n",
    "b_dex = parameters[0]\n",
    "m_0_dex = parameters[1]\n",
    "gamma_kbar_dex = parameters[2]\n",
    "sigma_dex = parameters[3]\n",
    "LL_dex = LL\n",
    "\n",
    "print(\"Parameters from glo_min for DEXJPUS: \", \"\\n\"\n",
    "      \"kbar = \", kbar,\"\\n\"\n",
    "      'b = %.5f' % b_dex,\"\\n\"\n",
    "      'm_0 = %.5f' % m_0_dex,\"\\n\"\n",
    "      'gamma_kbar = %.5f' % gamma_kbar_dex,\"\\n\"\n",
    "      'sigma = %.5f' % (sigma_dex*np.sqrt(252)),\"\\n\"\n",
    "      'Likelihood = %.5f' % LL_dex,\"\\n\"\n",
    "      \"niter = \" , niter,\"\\n\"\n",
    "      \"output = \" , output,\"\\n\")"
   ]
  },
  {
   "cell_type": "markdown",
   "id": "388a349c",
   "metadata": {
    "Collapsed": "false"
   },
   "source": [
    "***"
   ]
  }
 ],
 "metadata": {
  "kernelspec": {
   "display_name": "Python 3",
   "language": "python",
   "name": "python3"
  }
 },
 "nbformat": 4,
 "nbformat_minor": 5
}